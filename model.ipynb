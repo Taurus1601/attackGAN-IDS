{
 "cells": [
  {
   "cell_type": "code",
   "execution_count": 2,
   "metadata": {},
   "outputs": [
    {
     "name": "stderr",
     "output_type": "stream",
     "text": [
      "/Users/sanjanathyady/Desktop/project/.venv/lib/python3.9/site-packages/urllib3/__init__.py:35: NotOpenSSLWarning: urllib3 v2 only supports OpenSSL 1.1.1+, currently the 'ssl' module is compiled with 'LibreSSL 2.8.3'. See: https://github.com/urllib3/urllib3/issues/3020\n",
      "  warnings.warn(\n"
     ]
    }
   ],
   "source": [
    "import tensorflow as tf\n",
    "from tensorflow.keras import layers\n",
    "import numpy as np\n",
    "import matplotlib.pyplot as plt\n",
    "import pandas as pd\n"
   ]
  },
  {
   "cell_type": "code",
   "execution_count": 3,
   "metadata": {},
   "outputs": [],
   "source": [
    "def generate_synthetic_data(num_samples, malicious_ratio=0.5):\n",
    "    num_malicious = int(num_samples * malicious_ratio)\n",
    "    num_normal = num_samples - num_malicious\n",
    "\n",
    "    # Normal logs (e.g., random normal distribution)\n",
    "    normal_logs = np.random.normal(0, 1, (num_normal, 20))\n",
    "\n",
    "    # Malicious logs (e.g., random distribution with distinct pattern)\n",
    "    malicious_logs = np.random.normal(3, 1, (num_malicious, 20))\n",
    "\n",
    "    return np.concatenate([normal_logs, malicious_logs], axis=0)"
   ]
  },
  {
   "cell_type": "code",
   "execution_count": 4,
   "metadata": {},
   "outputs": [],
   "source": [
    "data = generate_synthetic_data(1000)\n",
    "data = (data - np.min(data)) / (np.max(data) - np.min(data))  # Normalize to [0, 1]\n",
    "BUFFER_SIZE = 1000\n",
    "BATCH_SIZE = 32\n",
    "\n",
    "train_dataset = tf.data.Dataset.from_tensor_slices(data).shuffle(BUFFER_SIZE).batch(BATCH_SIZE)\n"
   ]
  },
  {
   "cell_type": "code",
   "execution_count": 5,
   "metadata": {},
   "outputs": [],
   "source": [
    "\n",
    "# Define the Generator model\n",
    "def make_generator_model():\n",
    "    model = tf.keras.Sequential()\n",
    "    model.add(layers.Dense(128, activation=\"relu\", input_shape=(20,)))\n",
    "    model.add(layers.LeakyReLU())\n",
    "    model.add(layers.Dense(256))\n",
    "    model.add(layers.LeakyReLU())\n",
    "    model.add(layers.Dense(20, activation=\"tanh\"))\n",
    "    return model\n",
    "\n",
    "\n",
    "# Define the Discriminator model\n",
    "def make_discriminator_model():\n",
    "    model = tf.keras.Sequential()\n",
    "    model.add(layers.Dense(256, input_shape=(20,)))\n",
    "    model.add(layers.LeakyReLU())\n",
    "    model.add(layers.Dropout(0.3))\n",
    "    model.add(layers.Dense(128))\n",
    "    model.add(layers.LeakyReLU())\n",
    "    model.add(layers.Dropout(0.3))\n",
    "    model.add(layers.Dense(1, activation=\"sigmoid\"))\n",
    "    return model\n"
   ]
  },
  {
   "cell_type": "code",
   "execution_count": 6,
   "metadata": {},
   "outputs": [
    {
     "name": "stderr",
     "output_type": "stream",
     "text": [
      "/Users/sanjanathyady/Desktop/project/.venv/lib/python3.9/site-packages/keras/src/layers/core/dense.py:87: UserWarning: Do not pass an `input_shape`/`input_dim` argument to a layer. When using Sequential models, prefer using an `Input(shape)` object as the first layer in the model instead.\n",
      "  super().__init__(activity_regularizer=activity_regularizer, **kwargs)\n"
     ]
    }
   ],
   "source": [
    "generator = make_generator_model()\n",
    "discriminator = make_discriminator_model()\n",
    "\n",
    "cross_entropy = tf.keras.losses.BinaryCrossentropy()\n"
   ]
  },
  {
   "cell_type": "markdown",
   "metadata": {},
   "source": []
  },
  {
   "cell_type": "code",
   "execution_count": 7,
   "metadata": {},
   "outputs": [],
   "source": [
    "\n",
    "def generator_loss(fake_output):\n",
    "    return cross_entropy(tf.ones_like(fake_output), fake_output)\n",
    "\n",
    "def discriminator_loss(real_output, fake_output):\n",
    "    real_loss = cross_entropy(tf.ones_like(real_output), real_output)\n",
    "    fake_loss = cross_entropy(tf.zeros_like(fake_output), fake_output)\n",
    "    return real_loss + fake_loss\n"
   ]
  },
  {
   "cell_type": "code",
   "execution_count": 8,
   "metadata": {},
   "outputs": [],
   "source": [
    "\n",
    "# Optimizers\n",
    "generator_optimizer = tf.keras.optimizers.Adam(1e-4)\n",
    "discriminator_optimizer = tf.keras.optimizers.Adam(1e-4)\n"
   ]
  },
  {
   "cell_type": "code",
   "execution_count": 9,
   "metadata": {},
   "outputs": [],
   "source": [
    "\n",
    "\n",
    "# Training Step\n",
    "@tf.function\n",
    "def train_step(logs):\n",
    "    noise = tf.random.normal([BATCH_SIZE, 20])\n",
    "\n",
    "    with tf.GradientTape() as gen_tape, tf.GradientTape() as disc_tape:\n",
    "        generated_logs = generator(noise, training=True)\n",
    "\n",
    "        real_output = discriminator(logs, training=True)\n",
    "        fake_output = discriminator(generated_logs, training=True)\n",
    "\n",
    "        gen_loss = generator_loss(fake_output)\n",
    "        disc_loss = discriminator_loss(real_output, fake_output)\n",
    "\n",
    "    gradients_of_generator = gen_tape.gradient(gen_loss, generator.trainable_variables)\n",
    "    gradients_of_discriminator = disc_tape.gradient(disc_loss, discriminator.trainable_variables)\n",
    "\n",
    "    generator_optimizer.apply_gradients(zip(gradients_of_generator, generator.trainable_variables))\n",
    "    discriminator_optimizer.apply_gradients(zip(gradients_of_discriminator, discriminator.trainable_variables))\n"
   ]
  },
  {
   "cell_type": "code",
   "execution_count": 10,
   "metadata": {},
   "outputs": [
    {
     "name": "stderr",
     "output_type": "stream",
     "text": [
      "2024-11-08 10:18:55.245956: I tensorflow/core/framework/local_rendezvous.cc:405] Local rendezvous is aborting with status: OUT_OF_RANGE: End of sequence\n",
      "2024-11-08 10:18:55.292065: I tensorflow/core/framework/local_rendezvous.cc:405] Local rendezvous is aborting with status: OUT_OF_RANGE: End of sequence\n",
      "2024-11-08 10:18:55.400430: I tensorflow/core/framework/local_rendezvous.cc:405] Local rendezvous is aborting with status: OUT_OF_RANGE: End of sequence\n"
     ]
    },
    {
     "name": "stdout",
     "output_type": "stream",
     "text": [
      "Epoch 1/50 completed\n",
      "Epoch 2/50 completed\n",
      "Epoch 3/50 completed\n",
      "Epoch 4/50 completed\n",
      "Epoch 5/50 completed\n",
      "Epoch 6/50 completed\n",
      "Epoch 7/50 completed\n",
      "Epoch 8/50 completed\n"
     ]
    },
    {
     "name": "stderr",
     "output_type": "stream",
     "text": [
      "2024-11-08 10:18:55.658655: I tensorflow/core/framework/local_rendezvous.cc:405] Local rendezvous is aborting with status: OUT_OF_RANGE: End of sequence\n"
     ]
    },
    {
     "name": "stdout",
     "output_type": "stream",
     "text": [
      "Epoch 9/50 completed\n",
      "Epoch 10/50 completed\n",
      "Epoch 11/50 completed\n",
      "Epoch 12/50 completed\n",
      "Epoch 13/50 completed\n",
      "Epoch 14/50 completed\n",
      "Epoch 15/50 completed\n"
     ]
    },
    {
     "name": "stderr",
     "output_type": "stream",
     "text": [
      "2024-11-08 10:18:56.192344: I tensorflow/core/framework/local_rendezvous.cc:405] Local rendezvous is aborting with status: OUT_OF_RANGE: End of sequence\n"
     ]
    },
    {
     "name": "stdout",
     "output_type": "stream",
     "text": [
      "Epoch 16/50 completed\n",
      "Epoch 17/50 completed\n",
      "Epoch 18/50 completed\n",
      "Epoch 19/50 completed\n",
      "Epoch 20/50 completed\n",
      "Epoch 21/50 completed\n",
      "Epoch 22/50 completed\n",
      "Epoch 23/50 completed\n",
      "Epoch 24/50 completed\n",
      "Epoch 25/50 completed\n",
      "Epoch 26/50 completed\n",
      "Epoch 27/50 completed\n",
      "Epoch 28/50 completed\n",
      "Epoch 29/50 completed\n",
      "Epoch 30/50 completed\n",
      "Epoch 31/50 completed\n",
      "Epoch 32/50 completed\n",
      "Epoch 33/50 completed\n"
     ]
    },
    {
     "name": "stderr",
     "output_type": "stream",
     "text": [
      "2024-11-08 10:18:57.278910: I tensorflow/core/framework/local_rendezvous.cc:405] Local rendezvous is aborting with status: OUT_OF_RANGE: End of sequence\n"
     ]
    },
    {
     "name": "stdout",
     "output_type": "stream",
     "text": [
      "Epoch 34/50 completed\n",
      "Epoch 35/50 completed\n",
      "Epoch 36/50 completed\n",
      "Epoch 37/50 completed\n",
      "Epoch 38/50 completed\n",
      "Epoch 39/50 completed\n",
      "Epoch 40/50 completed\n",
      "Epoch 41/50 completed\n",
      "Epoch 42/50 completed\n",
      "Epoch 43/50 completed\n",
      "Epoch 44/50 completed\n",
      "Epoch 45/50 completed\n",
      "Epoch 46/50 completed\n",
      "Epoch 47/50 completed\n",
      "Epoch 48/50 completed\n",
      "Epoch 49/50 completed\n",
      "Epoch 50/50 completed\n"
     ]
    }
   ],
   "source": [
    "\n",
    "def train(dataset, epochs):\n",
    "    for epoch in range(epochs):\n",
    "        for batch in dataset:\n",
    "            train_step(batch)\n",
    "        print(f\"Epoch {epoch + 1}/{epochs} completed\")\n",
    "\n",
    "# Train the GAN\n",
    "EPOCHS = 50\n",
    "train(train_dataset, EPOCHS)\n",
    "\n",
    "# Generate and visualize synthetic samples\n",
    "def generate_synthetic_samples(model, num_samples=16):\n",
    "    noise = tf.random.normal([num_samples, 20])\n",
    "    generated_logs = model(noise, training=False)\n",
    "    return generated_logs\n",
    "    "
   ]
  },
  {
   "cell_type": "code",
   "execution_count": null,
   "metadata": {},
   "outputs": [],
   "source": []
  },
  {
   "cell_type": "code",
   "execution_count": 11,
   "metadata": {},
   "outputs": [
    {
     "name": "stdout",
     "output_type": "stream",
     "text": [
      "Generated synthetic system logs:\n",
      "tf.Tensor(\n",
      "[[0.3224162  0.5213434  0.235065   0.3266033  0.40846312 0.461739\n",
      "  0.42588893 0.37299448 0.23601027 0.32338554 0.36779317 0.4648808\n",
      "  0.35508323 0.5197323  0.50312066 0.2666637  0.4419969  0.35572928\n",
      "  0.5092957  0.3551684 ]\n",
      " [0.40948376 0.6519361  0.39743674 0.46134278 0.53054416 0.655108\n",
      "  0.5465966  0.46716937 0.307567   0.63757515 0.34873894 0.5489998\n",
      "  0.49650902 0.5764584  0.4122931  0.41416126 0.39178455 0.38765472\n",
      "  0.58962244 0.4210595 ]\n",
      " [0.6077027  0.80051064 0.72317517 0.49104667 0.6319538  0.74686617\n",
      "  0.7442014  0.64444983 0.6175591  0.5995289  0.6662665  0.7998689\n",
      "  0.75394756 0.77295285 0.6170922  0.45069304 0.70270973 0.6540614\n",
      "  0.75992054 0.6145673 ]\n",
      " [0.2326051  0.57135195 0.23488228 0.27198443 0.4621282  0.4875439\n",
      "  0.4156847  0.31930712 0.32477504 0.37336707 0.34887755 0.4752807\n",
      "  0.43713868 0.49450946 0.4382023  0.2526059  0.47177035 0.36419016\n",
      "  0.55511534 0.39643946]\n",
      " [0.4197669  0.572843   0.37782133 0.3381527  0.514815   0.5876318\n",
      "  0.51518804 0.3327596  0.3673414  0.5224673  0.3636003  0.53267723\n",
      "  0.4731333  0.46914512 0.44856185 0.347006   0.34265262 0.36667755\n",
      "  0.5389383  0.3468175 ]], shape=(5, 20), dtype=float32)\n"
     ]
    }
   ],
   "source": [
    "\n",
    "# Generate samples after training\n",
    "generated_samples = generate_synthetic_samples(generator, num_samples=5)\n",
    "print(\"Generated synthetic system logs:\")\n",
    "print(generated_samples)\n"
   ]
  },
  {
   "cell_type": "markdown",
   "metadata": {},
   "source": [
    "Attack-gan model from here"
   ]
  },
  {
   "cell_type": "code",
   "execution_count": 12,
   "metadata": {},
   "outputs": [
    {
     "name": "stdout",
     "output_type": "stream",
     "text": [
      "                                            sequence      label\n",
      "0  ['168', '168', '168', '168', '168', '168', '26...  malicious\n",
      "1  ['6', '33', '6', '268', '6', '6', '5', '102', ...  malicious\n",
      "2  ['168', '265', '3', '3', '265', '265', '168', ...  malicious\n",
      "3  ['311', '240', '240', '6', '6', '6', '6', '6',...     benign\n",
      "4  ['197', '125', '20', '45', '5', '42', '120', '...     benign\n"
     ]
    }
   ],
   "source": [
    "import pandas as pd\n",
    "\n",
    "# Load the dataset\n",
    "data_path = 'adfa_ld_processed.csv'\n",
    "data = pd.read_csv(data_path)\n",
    "\n",
    "# Display the first few rows\n",
    "print(data.head())"
   ]
  },
  {
   "cell_type": "code",
   "execution_count": 27,
   "metadata": {},
   "outputs": [
    {
     "name": "stderr",
     "output_type": "stream",
     "text": [
      "/var/folders/b3/2cyr9kb15bx6073klxmmzym00000gn/T/ipykernel_23730/2247111671.py:14: FutureWarning: Series.__getitem__ treating keys as positions is deprecated. In a future version, integer keys will always be treated as labels (consistent with DataFrame behavior). To access a value by position, use `ser.iloc[pos]`\n",
      "  cleaned_row = re.findall(r'\\d+', row[0])\n"
     ]
    }
   ],
   "source": [
    "import pandas as pd\n",
    "import numpy as np\n",
    "from tensorflow.keras.preprocessing.sequence import pad_sequences\n",
    "from sklearn.preprocessing import MinMaxScaler\n",
    "import re  # To clean and extract integers from the string\n",
    "\n",
    "# Load your dataset\n",
    "data_path = 'adfa_ld_processed.csv'\n",
    "data = pd.read_csv(data_path)\n",
    "\n",
    "# Cleaning and converting each row to a list of integers\n",
    "def clean_and_convert(row):\n",
    "    # Remove any non-numeric characters (like brackets or quotes)\n",
    "    cleaned_row = re.findall(r'\\d+', row[0])\n",
    "    # Convert to integers\n",
    "    return list(map(int, cleaned_row))\n",
    "\n",
    "# Apply the cleaning and conversion function to each row\n",
    "data_sequences = data.apply(clean_and_convert, axis=1)\n",
    "\n",
    "# Step 2: Determine a target length (e.g., median length)\n",
    "sequence_lengths = data_sequences.apply(len)\n",
    "target_length = int(sequence_lengths.median())\n",
    "\n",
    "# Step 3: Pad sequences to the target length\n",
    "padded_sequences = pad_sequences(data_sequences, maxlen=target_length, padding='post', truncating='post', dtype='float32')\n",
    "\n",
    "# Step 4: Normalize the padded sequences\n",
    "scaler = MinMaxScaler()\n",
    "padded_sequences_normalized = scaler.fit_transform(padded_sequences.reshape(-1, target_length))\n",
    "\n",
    "# Reshape back to original format if needed\n",
    "padded_sequences_normalized = padded_sequences_normalized.reshape(-1, target_length)\n",
    "\n",
    "# Now `padded_sequences_normalized` is ready for use in the GAN\n"
   ]
  },
  {
   "cell_type": "code",
   "execution_count": 28,
   "metadata": {},
   "outputs": [
    {
     "data": {
      "text/plain": [
       "array([[0.5357143 , 0.5030488 , 0.48961425, ..., 0.49411765, 0.7794118 ,\n",
       "        0.5436893 ],\n",
       "       [0.00974026, 0.09146341, 0.00890208, ..., 0.        , 0.        ,\n",
       "        0.        ],\n",
       "       [0.5357143 , 0.79878044, 0.        , ..., 0.        , 0.        ,\n",
       "        0.        ],\n",
       "       ...,\n",
       "       [0.00974026, 0.6646341 , 0.64688426, ..., 0.        , 0.        ,\n",
       "        0.        ],\n",
       "       [0.28571427, 0.5762195 , 0.00890208, ..., 0.        , 0.        ,\n",
       "        0.        ],\n",
       "       [0.7694805 , 0.72256094, 0.08902077, ..., 0.        , 0.        ,\n",
       "        0.        ]], dtype=float32)"
      ]
     },
     "execution_count": 28,
     "metadata": {},
     "output_type": "execute_result"
    }
   ],
   "source": [
    "padded_sequences_normalized"
   ]
  },
  {
   "cell_type": "code",
   "execution_count": 29,
   "metadata": {},
   "outputs": [],
   "source": [
    "import tensorflow as tf\n",
    "from tensorflow.keras import layers\n",
    "import numpy as np\n",
    "import matplotlib.pyplot as plt\n",
    "\n",
    "# Set some parameters\n",
    "INPUT_SHAPE = padded_sequences_normalized.shape[1]  # Assuming fixed length after padding\n",
    "LATENT_DIM = 100  # Dimension of the random noise vector input to the generator\n",
    "\n",
    "# Define the Generator Model\n",
    "\n"
   ]
  },
  {
   "cell_type": "code",
   "execution_count": 30,
   "metadata": {},
   "outputs": [],
   "source": [
    "def build_generator():\n",
    "    model = tf.keras.Sequential()\n",
    "    model.add(layers.Dense(128, activation=\"relu\", input_shape=(LATENT_DIM,)))\n",
    "    model.add(layers.LeakyReLU(alpha=0.2))\n",
    "    model.add(layers.Dense(256))\n",
    "    model.add(layers.LeakyReLU(alpha=0.2))\n",
    "    model.add(layers.Dense(INPUT_SHAPE, activation=\"tanh\"))  # Output shape matches log sequence length\n",
    "    return model\n",
    "\n",
    "\n",
    "# Define the Discriminator Model\n",
    "def build_discriminator():\n",
    "    model = tf.keras.Sequential()\n",
    "    model.add(layers.Dense(256, input_shape=(INPUT_SHAPE,)))\n",
    "    model.add(layers.LeakyReLU(alpha=0.2))\n",
    "    model.add(layers.Dropout(0.3))\n",
    "    model.add(layers.Dense(128))\n",
    "    model.add(layers.LeakyReLU(alpha=0.2))\n",
    "    model.add(layers.Dropout(0.3))\n",
    "    model.add(layers.Dense(1, activation=\"sigmoid\"))  # Binary classification: benign (0) or malicious (1)\n",
    "    return model"
   ]
  },
  {
   "cell_type": "code",
   "execution_count": 31,
   "metadata": {},
   "outputs": [
    {
     "name": "stderr",
     "output_type": "stream",
     "text": [
      "/Users/sanjanathyady/Desktop/project/.venv/lib/python3.9/site-packages/keras/src/layers/core/dense.py:87: UserWarning: Do not pass an `input_shape`/`input_dim` argument to a layer. When using Sequential models, prefer using an `Input(shape)` object as the first layer in the model instead.\n",
      "  super().__init__(activity_regularizer=activity_regularizer, **kwargs)\n",
      "/Users/sanjanathyady/Desktop/project/.venv/lib/python3.9/site-packages/keras/src/layers/activations/leaky_relu.py:41: UserWarning: Argument `alpha` is deprecated. Use `negative_slope` instead.\n",
      "  warnings.warn(\n"
     ]
    }
   ],
   "source": [
    "\n",
    "# Instantiate the generator and discriminator\n",
    "generator = build_generator()\n",
    "discriminator = build_discriminator()\n",
    "\n",
    "# Define Loss Functions\n",
    "cross_entropy = tf.keras.losses.BinaryCrossentropy()\n"
   ]
  },
  {
   "cell_type": "code",
   "execution_count": 32,
   "metadata": {},
   "outputs": [],
   "source": [
    "\n",
    "\n",
    "def generator_loss(fake_output):\n",
    "    # Goal: Fool the discriminator into classifying fake logs as malicious\n",
    "    return cross_entropy(tf.ones_like(fake_output), fake_output)  # '1' for malicious\n",
    "\n",
    "def discriminator_loss(real_output, fake_output):\n",
    "    # Discriminator wants to correctly classify benign logs as 0 and malicious logs as 1\n",
    "    real_loss = cross_entropy(tf.zeros_like(real_output), real_output)  # '0' for benign\n",
    "    fake_loss = cross_entropy(tf.ones_like(fake_output), fake_output)  # '1' for malicious\n",
    "    return real_loss + fake_loss\n",
    "\n",
    "# Define Optimizers\n",
    "generator_optimizer = tf.keras.optimizers.Adam(1e-4)\n",
    "discriminator_optimizer = tf.keras.optimizers.Adam(5e-5)  # Lower the learning rate\n",
    "\n",
    "\n",
    "\n",
    "# Training Step\n",
    "\n"
   ]
  },
  {
   "cell_type": "code",
   "execution_count": 33,
   "metadata": {},
   "outputs": [],
   "source": [
    "\n",
    "@tf.function\n",
    "def train_step(real_logs):\n",
    "    noise = tf.random.normal([BATCH_SIZE, LATENT_DIM])\n",
    "    \n",
    "    with tf.GradientTape() as gen_tape, tf.GradientTape() as disc_tape:\n",
    "        generated_logs = generator(noise, training=True)\n",
    "        \n",
    "        real_output = discriminator(real_logs, training=True)\n",
    "        fake_output = discriminator(generated_logs, training=True)\n",
    "        \n",
    "        gen_loss = generator_loss(fake_output)\n",
    "        disc_loss = discriminator_loss(real_output, fake_output)\n",
    "    \n",
    "    gradients_of_generator = gen_tape.gradient(gen_loss, generator.trainable_variables)\n",
    "    gradients_of_discriminator = disc_tape.gradient(disc_loss, discriminator.trainable_variables)\n",
    "    \n",
    "    generator_optimizer.apply_gradients(zip(gradients_of_generator, generator.trainable_variables))\n",
    "    discriminator_optimizer.apply_gradients(zip(gradients_of_discriminator, discriminator.trainable_variables))\n",
    "    \n",
    "    return gen_loss, disc_loss\n",
    "\n",
    "# Training Loop\n",
    "def train_gan(dataset, epochs):\n",
    "    generator_losses = []\n",
    "    discriminator_losses = []\n",
    "\n",
    "    for epoch in range(epochs):\n",
    "        gen_loss_epoch = 0.0\n",
    "        disc_loss_epoch = 0.0\n",
    "        batch_count = 0\n",
    "        \n",
    "        for batch in dataset:\n",
    "            gen_loss, disc_loss = train_step(batch)\n",
    "            gen_loss_epoch += gen_loss\n",
    "            disc_loss_epoch += disc_loss\n",
    "            batch_count += 1\n",
    "        \n",
    "        # Calculate average loss for the epoch\n",
    "        generator_losses.append(gen_loss_epoch / batch_count)\n",
    "        discriminator_losses.append(disc_loss_epoch / batch_count)\n",
    "        \n",
    "        print(f\"Epoch {epoch+1}/{epochs} - Generator Loss: {gen_loss_epoch / batch_count:.4f}, Discriminator Loss: {disc_loss_epoch / batch_count:.4f}\")\n",
    "\n",
    "    # Plotting the losses\n",
    "    plt.figure(figsize=(10, 5))\n",
    "    plt.plot(generator_losses, label=\"Generator Loss\")\n",
    "    plt.plot(discriminator_losses, label=\"Discriminator Loss\")\n",
    "    plt.xlabel(\"Epochs\")\n",
    "    plt.ylabel(\"Loss\")\n",
    "    plt.title(\"Generator and Discriminator Loss Over Epochs\")\n",
    "    plt.legend()\n",
    "    plt.show()\n"
   ]
  },
  {
   "cell_type": "code",
   "execution_count": 34,
   "metadata": {},
   "outputs": [],
   "source": [
    "\n",
    "# Prepare Dataset\n",
    "BATCH_SIZE = 32\n",
    "EPOCHS = 50\n",
    "\n",
    "# Convert normalized sequences to TensorFlow dataset and batch them\n",
    "malicious_dataset = tf.data.Dataset.from_tensor_slices(padded_sequences_normalized).shuffle(len(padded_sequences_normalized)).batch(BATCH_SIZE)\n"
   ]
  },
  {
   "cell_type": "code",
   "execution_count": 35,
   "metadata": {},
   "outputs": [
    {
     "name": "stdout",
     "output_type": "stream",
     "text": [
      "Epoch 1/50 - Generator Loss: 0.2282, Discriminator Loss: 0.6239\n",
      "Epoch 2/50 - Generator Loss: 0.0188, Discriminator Loss: 0.1720\n",
      "Epoch 3/50 - Generator Loss: 0.0066, Discriminator Loss: 0.0900\n",
      "Epoch 4/50 - Generator Loss: 0.0033, Discriminator Loss: 0.0589\n",
      "Epoch 5/50 - Generator Loss: 0.0020, Discriminator Loss: 0.0425\n",
      "Epoch 6/50 - Generator Loss: 0.0014, Discriminator Loss: 0.0335\n",
      "Epoch 7/50 - Generator Loss: 0.0010, Discriminator Loss: 0.0280\n",
      "Epoch 8/50 - Generator Loss: 0.0007, Discriminator Loss: 0.0236\n",
      "Epoch 9/50 - Generator Loss: 0.0006, Discriminator Loss: 0.0212\n",
      "Epoch 10/50 - Generator Loss: 0.0004, Discriminator Loss: 0.0182\n",
      "Epoch 11/50 - Generator Loss: 0.0004, Discriminator Loss: 0.0163\n",
      "Epoch 12/50 - Generator Loss: 0.0003, Discriminator Loss: 0.0148\n",
      "Epoch 13/50 - Generator Loss: 0.0002, Discriminator Loss: 0.0141\n",
      "Epoch 14/50 - Generator Loss: 0.0002, Discriminator Loss: 0.0130\n",
      "Epoch 15/50 - Generator Loss: 0.0002, Discriminator Loss: 0.0120\n",
      "Epoch 16/50 - Generator Loss: 0.0002, Discriminator Loss: 0.0114\n",
      "Epoch 17/50 - Generator Loss: 0.0001, Discriminator Loss: 0.0112\n",
      "Epoch 18/50 - Generator Loss: 0.0001, Discriminator Loss: 0.0100\n",
      "Epoch 19/50 - Generator Loss: 0.0001, Discriminator Loss: 0.0097\n",
      "Epoch 20/50 - Generator Loss: 0.0001, Discriminator Loss: 0.0089\n",
      "Epoch 21/50 - Generator Loss: 0.0001, Discriminator Loss: 0.0086\n",
      "Epoch 22/50 - Generator Loss: 0.0001, Discriminator Loss: 0.0083\n",
      "Epoch 23/50 - Generator Loss: 0.0001, Discriminator Loss: 0.0080\n",
      "Epoch 24/50 - Generator Loss: 0.0001, Discriminator Loss: 0.0078\n",
      "Epoch 25/50 - Generator Loss: 0.0001, Discriminator Loss: 0.0069\n",
      "Epoch 26/50 - Generator Loss: 0.0001, Discriminator Loss: 0.0070\n",
      "Epoch 27/50 - Generator Loss: 0.0000, Discriminator Loss: 0.0067\n"
     ]
    },
    {
     "name": "stderr",
     "output_type": "stream",
     "text": [
      "2024-11-08 10:21:42.195732: I tensorflow/core/framework/local_rendezvous.cc:405] Local rendezvous is aborting with status: OUT_OF_RANGE: End of sequence\n"
     ]
    },
    {
     "name": "stdout",
     "output_type": "stream",
     "text": [
      "Epoch 28/50 - Generator Loss: 0.0000, Discriminator Loss: 0.0062\n",
      "Epoch 29/50 - Generator Loss: 0.0000, Discriminator Loss: 0.0058\n",
      "Epoch 30/50 - Generator Loss: 0.0000, Discriminator Loss: 0.0056\n",
      "Epoch 31/50 - Generator Loss: 0.0000, Discriminator Loss: 0.0052\n",
      "Epoch 32/50 - Generator Loss: 0.0000, Discriminator Loss: 0.0053\n",
      "Epoch 33/50 - Generator Loss: 0.0000, Discriminator Loss: 0.0049\n",
      "Epoch 34/50 - Generator Loss: 0.0000, Discriminator Loss: 0.0050\n",
      "Epoch 35/50 - Generator Loss: 0.0000, Discriminator Loss: 0.0045\n",
      "Epoch 36/50 - Generator Loss: 0.0000, Discriminator Loss: 0.0042\n",
      "Epoch 37/50 - Generator Loss: 0.0000, Discriminator Loss: 0.0038\n",
      "Epoch 38/50 - Generator Loss: 0.0000, Discriminator Loss: 0.0039\n",
      "Epoch 39/50 - Generator Loss: 0.0000, Discriminator Loss: 0.0038\n",
      "Epoch 40/50 - Generator Loss: 0.0000, Discriminator Loss: 0.0035\n",
      "Epoch 41/50 - Generator Loss: 0.0000, Discriminator Loss: 0.0033\n",
      "Epoch 42/50 - Generator Loss: 0.0000, Discriminator Loss: 0.0032\n",
      "Epoch 43/50 - Generator Loss: 0.0000, Discriminator Loss: 0.0031\n",
      "Epoch 44/50 - Generator Loss: 0.0000, Discriminator Loss: 0.0028\n",
      "Epoch 45/50 - Generator Loss: 0.0000, Discriminator Loss: 0.0027\n",
      "Epoch 46/50 - Generator Loss: 0.0000, Discriminator Loss: 0.0030\n",
      "Epoch 47/50 - Generator Loss: 0.0000, Discriminator Loss: 0.0025\n",
      "Epoch 48/50 - Generator Loss: 0.0000, Discriminator Loss: 0.0025\n",
      "Epoch 49/50 - Generator Loss: 0.0000, Discriminator Loss: 0.0023\n",
      "Epoch 50/50 - Generator Loss: 0.0000, Discriminator Loss: 0.0025\n"
     ]
    },
    {
     "data": {
      "image/png": "[encoded data removed]",
      "text/plain": [
       "<Figure size 1000x500 with 1 Axes>"
      ]
     },
     "metadata": {},
     "output_type": "display_data"
    }
   ],
   "source": [
    "\n",
    "# Train the GAN\n",
    "train_gan(malicious_dataset, EPOCHS)"
   ]
  },
  {
   "cell_type": "code",
   "execution_count": 36,
   "metadata": {},
   "outputs": [],
   "source": [
    "\n",
    "# Generate and display synthetic malicious samples\n",
    "def generate_synthetic_logs(model, num_samples=5):\n",
    "    noise = tf.random.normal([num_samples, LATENT_DIM])\n",
    "    generated_logs = model(noise, training=False)\n",
    "    return generated_logs\n"
   ]
  },
  {
   "cell_type": "code",
   "execution_count": 39,
   "metadata": {},
   "outputs": [
    {
     "name": "stdout",
     "output_type": "stream",
     "text": [
      "Generated synthetic malicious logs:\n",
      "tf.Tensor(\n",
      "[[-0.9139534   0.9169651  -0.54012746 ... -0.7829064   0.6967921\n",
      "   0.06413009]\n",
      " [-0.46344137  0.8475406  -0.7666232  ... -0.8594527   0.27555704\n",
      "   0.19389987]\n",
      " [-0.7231584   0.72466826 -0.5602551  ... -0.7690965   0.6210189\n",
      "   0.0547808 ]\n",
      " [-0.6252184   0.81358796 -0.39786765 ... -0.66503036  0.62949437\n",
      "  -0.27921933]\n",
      " [-0.66082126  0.88432515 -0.4751598  ... -0.7783639   0.12432697\n",
      "   0.06970598]], shape=(5, 229), dtype=float32)\n"
     ]
    }
   ],
   "source": [
    "\n",
    "# Display a few generated samples\n",
    "generated_samples = generate_synthetic_logs(generator, num_samples=5)\n",
    "print(\"Generated synthetic malicious logs:\")\n",
    "print(generated_samples)\n"
   ]
  },
  {
   "cell_type": "code",
   "execution_count": 40,
   "metadata": {},
   "outputs": [
    {
     "name": "stdout",
     "output_type": "stream",
     "text": [
      "Discriminator Accuracy on Real vs Fake Logs: 0.0\n"
     ]
    }
   ],
   "source": [
    "@tf.function\n",
    "def compute_discriminator_accuracy(real_logs, fake_logs):\n",
    "    # Get predictions for real and fake logs\n",
    "    real_predictions = discriminator(real_logs, training=False)\n",
    "    fake_predictions = discriminator(fake_logs, training=False)\n",
    "    \n",
    "    # Threshold to classify: values > 0.5 are \"real,\" values <= 0.5 are \"fake\"\n",
    "    real_accuracy = tf.reduce_mean(tf.cast(real_predictions > 0.5, tf.float32))\n",
    "    fake_accuracy = tf.reduce_mean(tf.cast(fake_predictions <= 0.5, tf.float32))\n",
    "    \n",
    "    # Total accuracy is the mean of both real and fake accuracies\n",
    "    discriminator_accuracy = (real_accuracy + fake_accuracy) / 2\n",
    "    return discriminator_accuracy\n",
    "\n",
    "# Example usage within training:\n",
    "real_logs_sample = next(iter(malicious_dataset))  # Get a batch of real logs\n",
    "noise_sample = tf.random.normal([BATCH_SIZE, LATENT_DIM])  # Generate noise\n",
    "fake_logs_sample = generator(noise_sample, training=False)  # Generate fake logs\n",
    "disc_accuracy = compute_discriminator_accuracy(real_logs_sample, fake_logs_sample)\n",
    "print(\"Discriminator Accuracy on Real vs Fake Logs:\", disc_accuracy.numpy())\n"
   ]
  },
  {
   "cell_type": "code",
   "execution_count": 41,
   "metadata": {},
   "outputs": [
    {
     "name": "stdout",
     "output_type": "stream",
     "text": [
      "Generator's Success Rate (Fooling Rate): 1.0\n"
     ]
    }
   ],
   "source": [
    "@tf.function\n",
    "def compute_generator_success_rate(fake_logs):\n",
    "    # Generate fake logs and get predictions from the discriminator\n",
    "    predictions = discriminator(fake_logs, training=False)\n",
    "    # Success rate: how often the fake logs are classified as \"real\" by the discriminator\n",
    "    success_rate = tf.reduce_mean(tf.cast(predictions > 0.5, tf.float32))\n",
    "    return success_rate\n",
    "\n",
    "# Example usage:\n",
    "fake_logs_sample = generator(noise_sample, training=False)  # Generate fake logs\n",
    "gen_success_rate = compute_generator_success_rate(fake_logs_sample)\n",
    "print(\"Generator's Success Rate (Fooling Rate):\", gen_success_rate.numpy())\n"
   ]
  },
  {
   "cell_type": "code",
   "execution_count": 42,
   "metadata": {},
   "outputs": [
    {
     "name": "stdout",
     "output_type": "stream",
     "text": [
      "Generated data saved to generated_data.csv\n"
     ]
    }
   ],
   "source": [
    "\n",
    "generated_df = pd.DataFrame(generated_samples.numpy() if hasattr(generated_samples, 'numpy') else generated_samples)\n",
    "\n",
    "# Save to CSV\n",
    "output_path = 'generated_data.csv'  # Change this path as needed\n",
    "generated_df.to_csv(output_path, index=False)\n",
    "\n",
    "print(f\"Generated data saved to {output_path}\")\n"
   ]
  },
  {
   "cell_type": "code",
   "execution_count": 46,
   "metadata": {},
   "outputs": [
    {
     "name": "stdout",
     "output_type": "stream",
     "text": [
      "Denormalized integer data saved to denormalized_data_integers.csv\n"
     ]
    }
   ],
   "source": [
    "import numpy as np\n",
    "import pandas as pd\n",
    "from sklearn.preprocessing import MinMaxScaler\n",
    "\n",
    "# Assuming `scaler` is the MinMaxScaler instance used for normalization\n",
    "# and `padded_sequences_normalized` is the normalized data.\n",
    "\n",
    "# Denormalizing function\n",
    "def denormalize_data_to_integers(normalized_data, scaler, target_length):\n",
    "    \"\"\"\n",
    "    Denormalizes the normalized data using the scaler and converts to integers.\n",
    "    \n",
    "    Parameters:\n",
    "    - normalized_data: np.array, normalized data that needs to be denormalized\n",
    "    - scaler: MinMaxScaler instance, the scaler used to normalize the original data\n",
    "    - target_length: int, length to reshape the denormalized data if necessary\n",
    "    \n",
    "    Returns:\n",
    "    - denormalized_data: np.array, data in original scale as integers\n",
    "    \"\"\"\n",
    "    # Flatten the normalized data, denormalize it, and reshape back\n",
    "    denormalized_data = scaler.inverse_transform(normalized_data.reshape(-1, target_length))\n",
    "    # Convert to integers\n",
    "    denormalized_data = denormalized_data.round().astype(int)\n",
    "    return denormalized_data\n",
    "\n",
    "# Use the function to denormalize the data\n",
    "denormalized_data = denormalize_data_to_integers(padded_sequences_normalized, scaler, target_length)\n",
    "\n",
    "# Optionally, convert to DataFrame for easier viewing or saving\n",
    "denormalized_df = pd.DataFrame(denormalized_data)\n",
    "\n",
    "# Save the denormalized data to a CSV file\n",
    "output_path = 'denormalized_data_integers.csv'  # Path to save the CSV file\n",
    "denormalized_df.to_csv(output_path, index=False)\n",
    "print(f\"Denormalized integer data saved to {output_path}\")\n"
   ]
  },
  {
   "cell_type": "markdown",
   "metadata": {},
   "source": [
    "loading the discriminator__ model___"
   ]
  },
  {
   "cell_type": "code",
   "execution_count": null,
   "metadata": {},
   "outputs": [],
   "source": []
  }
 ],
 "metadata": {
  "kernelspec": {
   "display_name": ".venv",
   "language": "python",
   "name": "python3"
  },
  "language_info": {
   "codemirror_mode": {
    "name": "ipython",
    "version": 3
   },
   "file_extension": ".py",
   "mimetype": "text/x-python",
   "name": "python",
   "nbconvert_exporter": "python",
   "pygments_lexer": "ipython3",
   "version": "3.9.6"
  }
 },
 "nbformat": 4,
 "nbformat_minor": 2
}
